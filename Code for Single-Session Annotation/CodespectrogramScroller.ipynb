{
 "cells": [
  {
   "cell_type": "code",
   "execution_count": 1,
   "metadata": {},
   "outputs": [],
   "source": [
    "# OS and basic imports\n",
    "import os\n",
    "import ntpath\n",
    "import shutil\n",
    "import copy\n",
    "import time\n",
    "import csv\n",
    "\n",
    "# Math & Display imports\n",
    "import numpy as np\n",
    "import matplotlib.pyplot as plt\n",
    "from tqdm import tqdm\n",
    "\n",
    "# Audio processing imports\n",
    "import tkinter as tk\n",
    "from PIL import Image, ImageTk\n",
    "import soundfile as sf\n",
    "from scipy.signal import spectrogram"
   ]
  },
  {
   "cell_type": "code",
   "execution_count": 2,
   "metadata": {},
   "outputs": [],
   "source": [
    "# Path definitions — EDIT THIS \n",
    "\n",
    "audio_directory = r\"/Users/hadrienhelfgott/Desktop/Edinburgh/SoundsOfTheRiver/BatPlayer/ScrollTest\"\n",
    "spectrogram_directory = r\"/Users/hadrienhelfgott/Desktop/Edinburgh/SoundsOfTheRiver/BatPlayer/ScrollTest/spectrograms\"\n",
    "saved_spectrogram_directory = r\"/Users/hadrienhelfgott/Desktop/Edinburgh/SoundsOfTheRiver/BatPlayer/ScrollTest/saved\"\n",
    "\n",
    "saved_list_name = \"saved_list.csv\""
   ]
  },
  {
   "cell_type": "markdown",
   "metadata": {},
   "source": [
    "## Generate Spectrograms"
   ]
  },
  {
   "cell_type": "code",
   "execution_count": 3,
   "metadata": {},
   "outputs": [],
   "source": [
    "def saveSpectrogram(file_path, audio_directory, spectrogram_directory):\n",
    "\n",
    "    # Open given file\n",
    "    data, samplerate = sf.read(os.path.join(audio_directory, file_path))\n",
    "\n",
    "    nperseg = 2048\n",
    "    noverlap = nperseg // 2\n",
    "    frequencies, times, Sxx = spectrogram(data, fs=samplerate, nperseg=nperseg, noverlap=noverlap)\n",
    "\n",
    "    # Convert power into decibels\n",
    "    Sxx_dB = 10 * np.log10(Sxx + 1e-10)\n",
    "\n",
    "    # Prevent matplotlib display\n",
    "    plt.ioff()\n",
    "\n",
    "    new_file_name = file_path.split(\".\")[0]+'.png'\n",
    "\n",
    "    # Save spectrogram as png file\n",
    "    plt.figure(figsize=(12, 6))\n",
    "    plt.pcolormesh(times, frequencies, Sxx_dB, shading='gouraud')\n",
    "    plt.ylabel('Frequency [Hz]')\n",
    "    plt.xlabel('Time [sec]')\n",
    "    plt.title('File: '+file_path)\n",
    "    plt.colorbar(label='Intensity [dB]')\n",
    "    plt.ylim(0, samplerate/2)\n",
    "    plt.savefig(os.path.join(spectrogram_directory, new_file_name))\n",
    "    plt.close()"
   ]
  },
  {
   "cell_type": "code",
   "execution_count": 4,
   "metadata": {},
   "outputs": [
    {
     "name": "stdout",
     "output_type": "stream",
     "text": [
      "Parsing through audio files in /Users/hadrienhelfgott/Desktop/Edinburgh/SoundsOfTheRiver/BatPlayer/ScrollTest\n",
      "Number of audio files found: 3\n",
      "Generating spectrograms\n"
     ]
    },
    {
     "name": "stderr",
     "output_type": "stream",
     "text": [
      "100%|██████████| 3/3 [00:05<00:00,  1.67s/it]"
     ]
    },
    {
     "name": "stdout",
     "output_type": "stream",
     "text": [
      "Saved 3 spectrograms into /Users/hadrienhelfgott/Desktop/Edinburgh/SoundsOfTheRiver/BatPlayer/ScrollTest/spectrograms\n"
     ]
    },
    {
     "name": "stderr",
     "output_type": "stream",
     "text": [
      "\n"
     ]
    }
   ],
   "source": [
    "# Create spectrogram_directory\n",
    "os.mkdir(spectrogram_directory)\n",
    "os.mkdir(saved_spectrogram_directory)\n",
    "\n",
    "# Parse through audio files\n",
    "print(\"Parsing through audio files in \"+audio_directory)\n",
    "audio_paths = []\n",
    "for file in os.listdir(audio_directory):\n",
    "    if file.endswith(\".wav\"):\n",
    "        audio_paths.append(file)\n",
    "if len(audio_paths) == 0:\n",
    "    print(\"Error: No audio files found\")\n",
    "    exit()\n",
    "\n",
    "print(\"Number of audio files found: \"+str(len(audio_paths)))\n",
    "time.sleep(0.5)\n",
    "\n",
    "# Generating spectrograms\n",
    "print(\"Generating spectrograms\")\n",
    "for file_path in tqdm(audio_paths):\n",
    "    saveSpectrogram(file_path, audio_directory, spectrogram_directory)\n",
    "print(\"Saved \"+str(len(audio_paths))+\" spectrograms into \"+spectrogram_directory)"
   ]
  },
  {
   "cell_type": "markdown",
   "metadata": {},
   "source": [
    "## Scrolling Window"
   ]
  },
  {
   "cell_type": "code",
   "execution_count": 5,
   "metadata": {},
   "outputs": [],
   "source": [
    "class ImageSwitcher:\n",
    "    def __init__(self, root, image_paths, save_dir, saved_list_name):\n",
    "        self.root = root\n",
    "        self.image_paths = image_paths\n",
    "        self.index = 0\n",
    "        self.is_over = False\n",
    "        self.image_nb = len(image_paths)\n",
    "        self.save_dir = save_dir\n",
    "        self.save_counter = 0\n",
    "        self.saved_list = []\n",
    "        self.saved_list_name = saved_list_name\n",
    "\n",
    "        # Load the first image\n",
    "        self.image_label = tk.Label(root)\n",
    "        self.image_label.pack()\n",
    "        self.load_image(self.index)\n",
    "\n",
    "        # Bind keypress events to functions\n",
    "        root.bind(\"<space>\", self.next_image)\n",
    "        root.bind(\"<Return>\", self.save_image)\n",
    "\n",
    "    def load_image(self, index):\n",
    "        img = Image.open(self.image_paths[index])\n",
    "        self.tk_image = ImageTk.PhotoImage(img)\n",
    "        self.image_label.config(image=self.tk_image)\n",
    "\n",
    "    # Go to next image\n",
    "    def next_image(self, event=None):\n",
    "        self.index = self.index + 1\n",
    "\n",
    "        # If images are remaining, keep scrolling\n",
    "        if self.index < self.image_nb:\n",
    "            self.load_image(self.index)\n",
    "\n",
    "        # If no images are left, stay in place and print final message once\n",
    "        elif not self.is_over:\n",
    "            print(\"All files have been visualized\")\n",
    "            print(\"Saved \"+str(self.save_counter)+\" files into \"+self.save_dir)\n",
    "            self.is_over = True\n",
    "            with open(os.path.join(saved_spectrogram_directory, self.saved_list_name), 'w', newline='') as myfile:\n",
    "                wr = csv.writer(myfile)\n",
    "                wr.writerows(zip(self.saved_list))\n",
    "\n",
    "    # Save image into separate directory, and list\n",
    "    def save_image(self, event=None):\n",
    "        new_path = os.path.join(self.save_dir, ntpath.basename(self.image_paths[self.index]))\n",
    "        if not os.path.isfile(new_path):\n",
    "            shutil.copyfile(self.image_paths[self.index], new_path)\n",
    "            self.save_counter += 1\n",
    "            self.saved_list.append(ntpath.basename(self.image_paths[self.index]))\n",
    "            print(\"Image saved\")\n",
    "        else: \n",
    "            print(\"Already saved\")"
   ]
  },
  {
   "cell_type": "code",
   "execution_count": 6,
   "metadata": {},
   "outputs": [],
   "source": [
    "# Parse through existing spectrograms\n",
    "image_paths = []\n",
    "for file in os.listdir(spectrogram_directory):\n",
    "    if file.endswith(\".png\"):\n",
    "        image_paths.append(os.path.join(spectrogram_directory, file))"
   ]
  },
  {
   "cell_type": "code",
   "execution_count": 7,
   "metadata": {},
   "outputs": [
    {
     "name": "stdout",
     "output_type": "stream",
     "text": [
      "All files have been visualized\n",
      "Saved 2 files into /Users/hadrienhelfgott/Desktop/Edinburgh/SoundsOfTheRiver/BatPlayer/ScrollTest/saved\n"
     ]
    }
   ],
   "source": [
    "# Launch the window\n",
    "root = tk.Tk()\n",
    "root.title(\"Press Space to access next image, Return to save image into separate directory\")\n",
    "print(\"Opened spectrogram window\")\n",
    "app = ImageSwitcher(root, image_paths, saved_spectrogram_directory, saved_list_name)\n",
    "root.mainloop()"
   ]
  }
 ],
 "metadata": {
  "kernelspec": {
   "display_name": "Python 3.9.12 ('base')",
   "language": "python",
   "name": "python3"
  },
  "language_info": {
   "codemirror_mode": {
    "name": "ipython",
    "version": 3
   },
   "file_extension": ".py",
   "mimetype": "text/x-python",
   "name": "python",
   "nbconvert_exporter": "python",
   "pygments_lexer": "ipython3",
   "version": "3.9.12"
  },
  "orig_nbformat": 4,
  "vscode": {
   "interpreter": {
    "hash": "cd7e7100b68b716a4f10ede5fe116b2f0bff10a5c6e73a9af04f029064e05cd2"
   }
  }
 },
 "nbformat": 4,
 "nbformat_minor": 2
}
